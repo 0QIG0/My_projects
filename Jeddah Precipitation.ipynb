{
 "cells": [
  {
   "cell_type": "markdown",
   "id": "7cded92f-a517-41c3-9898-43f8f23c0d52",
   "metadata": {},
   "source": [
    "### Precipitation in Jeddah\n",
    "\n",
    "Jeddah had been in the news over the last month for the unusual amount of rain that flooded the city.\n",
    "In this note book I will be exploring precipitation patterns in the city of Jeddah."
   ]
  },
  {
   "cell_type": "markdown",
   "id": "b0d5d764-29a6-4a6e-9e07-ad3ef5d94419",
   "metadata": {},
   "source": [
    "First, we import the data and look at statistics about the data. Also, we define functions that we will use later."
   ]
  },
  {
   "cell_type": "code",
   "execution_count": 1,
   "id": "0c6bfe36-020b-4b6f-90c5-61078c17d3ac",
   "metadata": {},
   "outputs": [],
   "source": [
    "import pandas as pd\n",
    "import numpy as np\n",
    "import seaborn as sns\n",
    "import matplotlib.pyplot as plt\n",
    "\n",
    "import warnings\n",
    "warnings.filterwarnings(\"ignore\")"
   ]
  },
  {
   "cell_type": "code",
   "execution_count": 2,
   "id": "e127d973-0f74-4c7f-98e0-4a23c977bf4f",
   "metadata": {
    "tags": []
   },
   "outputs": [],
   "source": [
    "def remove_iqr_outliers(data):\n",
    "    d = data[data.precip != 0]\n",
    "    q1, q3 = np.percentile(d,[25,75])\n",
    "    IQR = q3 - q1\n",
    "    lower_fence = q1 - (1.5 * IQR)\n",
    "    upper_fence = q3 + (1.5 * IQR)\n",
    "    g = data[~((data.precip > upper_fence) | (data.precip < lower_fence))]\n",
    "    q = g[~g.precip.isna()]\n",
    "    return q"
   ]
  },
  {
   "cell_type": "code",
   "execution_count": 3,
   "id": "6e1711c6-32fb-4756-ae22-2dbd0e7b7065",
   "metadata": {},
   "outputs": [],
   "source": [
    "def iqr_outliers(data):\n",
    "    d = data[data.precip != 0]\n",
    "    q1, q3 = np.percentile(d,[25,75])\n",
    "    IQR = q3 - q1\n",
    "    lower_fence = q1 - (1.5 * IQR)\n",
    "    upper_fence = q3 + (1.5 * IQR)\n",
    "    g = data[(data.precip > upper_fence) | (data.precip < lower_fence)]\n",
    "    q = g[~g.precip.isna()]\n",
    "    return q"
   ]
  },
  {
   "cell_type": "code",
   "execution_count": 4,
   "id": "7054b1bb-78e9-46da-a42d-9622f78ea1ea",
   "metadata": {},
   "outputs": [
    {
     "data": {
      "text/html": [
       "<div>\n",
       "<style scoped>\n",
       "    .dataframe tbody tr th:only-of-type {\n",
       "        vertical-align: middle;\n",
       "    }\n",
       "\n",
       "    .dataframe tbody tr th {\n",
       "        vertical-align: top;\n",
       "    }\n",
       "\n",
       "    .dataframe thead th {\n",
       "        text-align: right;\n",
       "    }\n",
       "</style>\n",
       "<table border=\"1\" class=\"dataframe\">\n",
       "  <thead>\n",
       "    <tr style=\"text-align: right;\">\n",
       "      <th></th>\n",
       "      <th>name</th>\n",
       "      <th>datetime</th>\n",
       "      <th>tempmax</th>\n",
       "      <th>tempmin</th>\n",
       "      <th>temp</th>\n",
       "      <th>feelslikemax</th>\n",
       "      <th>feelslikemin</th>\n",
       "      <th>feelslike</th>\n",
       "      <th>dew</th>\n",
       "      <th>humidity</th>\n",
       "      <th>...</th>\n",
       "      <th>solarenergy</th>\n",
       "      <th>uvindex</th>\n",
       "      <th>severerisk</th>\n",
       "      <th>sunrise</th>\n",
       "      <th>sunset</th>\n",
       "      <th>moonphase</th>\n",
       "      <th>conditions</th>\n",
       "      <th>description</th>\n",
       "      <th>icon</th>\n",
       "      <th>stations</th>\n",
       "    </tr>\n",
       "  </thead>\n",
       "  <tbody>\n",
       "    <tr>\n",
       "      <th>0</th>\n",
       "      <td>jeddah</td>\n",
       "      <td>2000-01-01</td>\n",
       "      <td>32.3</td>\n",
       "      <td>20.7</td>\n",
       "      <td>25.6</td>\n",
       "      <td>31.0</td>\n",
       "      <td>20.7</td>\n",
       "      <td>25.4</td>\n",
       "      <td>16.5</td>\n",
       "      <td>60.5</td>\n",
       "      <td>...</td>\n",
       "      <td>NaN</td>\n",
       "      <td>NaN</td>\n",
       "      <td>NaN</td>\n",
       "      <td>2000-01-01T07:01:08</td>\n",
       "      <td>2000-01-01T17:51:56</td>\n",
       "      <td>0.89</td>\n",
       "      <td>Clear</td>\n",
       "      <td>Clear conditions throughout the day.</td>\n",
       "      <td>clear-day</td>\n",
       "      <td>41024099999,41030099999</td>\n",
       "    </tr>\n",
       "    <tr>\n",
       "      <th>1</th>\n",
       "      <td>jeddah</td>\n",
       "      <td>2000-01-02</td>\n",
       "      <td>32.3</td>\n",
       "      <td>19.1</td>\n",
       "      <td>25.1</td>\n",
       "      <td>30.9</td>\n",
       "      <td>19.1</td>\n",
       "      <td>24.7</td>\n",
       "      <td>13.6</td>\n",
       "      <td>52.6</td>\n",
       "      <td>...</td>\n",
       "      <td>NaN</td>\n",
       "      <td>NaN</td>\n",
       "      <td>NaN</td>\n",
       "      <td>2000-01-02T07:01:28</td>\n",
       "      <td>2000-01-02T17:52:34</td>\n",
       "      <td>0.93</td>\n",
       "      <td>Clear</td>\n",
       "      <td>Clear conditions throughout the day.</td>\n",
       "      <td>clear-day</td>\n",
       "      <td>41024099999,41030099999</td>\n",
       "    </tr>\n",
       "    <tr>\n",
       "      <th>2</th>\n",
       "      <td>jeddah</td>\n",
       "      <td>2000-01-03</td>\n",
       "      <td>31.9</td>\n",
       "      <td>19.3</td>\n",
       "      <td>25.5</td>\n",
       "      <td>32.2</td>\n",
       "      <td>19.3</td>\n",
       "      <td>25.9</td>\n",
       "      <td>16.5</td>\n",
       "      <td>58.9</td>\n",
       "      <td>...</td>\n",
       "      <td>NaN</td>\n",
       "      <td>NaN</td>\n",
       "      <td>NaN</td>\n",
       "      <td>2000-01-03T07:01:46</td>\n",
       "      <td>2000-01-03T17:53:12</td>\n",
       "      <td>0.96</td>\n",
       "      <td>Partially cloudy</td>\n",
       "      <td>Partly cloudy throughout the day.</td>\n",
       "      <td>partly-cloudy-day</td>\n",
       "      <td>41024099999,41030099999</td>\n",
       "    </tr>\n",
       "    <tr>\n",
       "      <th>3</th>\n",
       "      <td>jeddah</td>\n",
       "      <td>2000-01-04</td>\n",
       "      <td>33.1</td>\n",
       "      <td>23.1</td>\n",
       "      <td>27.2</td>\n",
       "      <td>34.7</td>\n",
       "      <td>23.1</td>\n",
       "      <td>28.2</td>\n",
       "      <td>20.9</td>\n",
       "      <td>70.0</td>\n",
       "      <td>...</td>\n",
       "      <td>NaN</td>\n",
       "      <td>NaN</td>\n",
       "      <td>NaN</td>\n",
       "      <td>2000-01-04T07:02:03</td>\n",
       "      <td>2000-01-04T17:53:51</td>\n",
       "      <td>0.98</td>\n",
       "      <td>Partially cloudy</td>\n",
       "      <td>Partly cloudy throughout the day.</td>\n",
       "      <td>partly-cloudy-day</td>\n",
       "      <td>41024099999,41030099999</td>\n",
       "    </tr>\n",
       "    <tr>\n",
       "      <th>4</th>\n",
       "      <td>jeddah</td>\n",
       "      <td>2000-01-05</td>\n",
       "      <td>31.9</td>\n",
       "      <td>21.8</td>\n",
       "      <td>25.7</td>\n",
       "      <td>33.5</td>\n",
       "      <td>21.8</td>\n",
       "      <td>26.1</td>\n",
       "      <td>19.6</td>\n",
       "      <td>70.8</td>\n",
       "      <td>...</td>\n",
       "      <td>NaN</td>\n",
       "      <td>NaN</td>\n",
       "      <td>NaN</td>\n",
       "      <td>2000-01-05T07:02:19</td>\n",
       "      <td>2000-01-05T17:54:30</td>\n",
       "      <td>1.00</td>\n",
       "      <td>Partially cloudy</td>\n",
       "      <td>Partly cloudy throughout the day.</td>\n",
       "      <td>partly-cloudy-day</td>\n",
       "      <td>41024099999,41030099999</td>\n",
       "    </tr>\n",
       "  </tbody>\n",
       "</table>\n",
       "<p>5 rows × 33 columns</p>\n",
       "</div>"
      ],
      "text/plain": [
       "     name   datetime  tempmax  tempmin  temp  feelslikemax  feelslikemin  \\\n",
       "0  jeddah 2000-01-01     32.3     20.7  25.6          31.0          20.7   \n",
       "1  jeddah 2000-01-02     32.3     19.1  25.1          30.9          19.1   \n",
       "2  jeddah 2000-01-03     31.9     19.3  25.5          32.2          19.3   \n",
       "3  jeddah 2000-01-04     33.1     23.1  27.2          34.7          23.1   \n",
       "4  jeddah 2000-01-05     31.9     21.8  25.7          33.5          21.8   \n",
       "\n",
       "   feelslike   dew  humidity  ...  solarenergy  uvindex  severerisk  \\\n",
       "0       25.4  16.5      60.5  ...          NaN      NaN         NaN   \n",
       "1       24.7  13.6      52.6  ...          NaN      NaN         NaN   \n",
       "2       25.9  16.5      58.9  ...          NaN      NaN         NaN   \n",
       "3       28.2  20.9      70.0  ...          NaN      NaN         NaN   \n",
       "4       26.1  19.6      70.8  ...          NaN      NaN         NaN   \n",
       "\n",
       "               sunrise               sunset  moonphase        conditions  \\\n",
       "0  2000-01-01T07:01:08  2000-01-01T17:51:56       0.89             Clear   \n",
       "1  2000-01-02T07:01:28  2000-01-02T17:52:34       0.93             Clear   \n",
       "2  2000-01-03T07:01:46  2000-01-03T17:53:12       0.96  Partially cloudy   \n",
       "3  2000-01-04T07:02:03  2000-01-04T17:53:51       0.98  Partially cloudy   \n",
       "4  2000-01-05T07:02:19  2000-01-05T17:54:30       1.00  Partially cloudy   \n",
       "\n",
       "                            description               icon  \\\n",
       "0  Clear conditions throughout the day.          clear-day   \n",
       "1  Clear conditions throughout the day.          clear-day   \n",
       "2     Partly cloudy throughout the day.  partly-cloudy-day   \n",
       "3     Partly cloudy throughout the day.  partly-cloudy-day   \n",
       "4     Partly cloudy throughout the day.  partly-cloudy-day   \n",
       "\n",
       "                  stations  \n",
       "0  41024099999,41030099999  \n",
       "1  41024099999,41030099999  \n",
       "2  41024099999,41030099999  \n",
       "3  41024099999,41030099999  \n",
       "4  41024099999,41030099999  \n",
       "\n",
       "[5 rows x 33 columns]"
      ]
     },
     "execution_count": 4,
     "metadata": {},
     "output_type": "execute_result"
    }
   ],
   "source": [
    "data = pd.read_csv('jeddah 2000-01-01 to 2023-01-22.csv', parse_dates=['datetime'])\n",
    "data.head()"
   ]
  },
  {
   "cell_type": "code",
   "execution_count": 5,
   "id": "97481f29-ba12-4dce-82eb-1d152b34eca4",
   "metadata": {},
   "outputs": [
    {
     "name": "stdout",
     "output_type": "stream",
     "text": [
      "<class 'pandas.core.frame.DataFrame'>\n",
      "RangeIndex: 8423 entries, 0 to 8422\n",
      "Data columns (total 33 columns):\n",
      " #   Column            Non-Null Count  Dtype         \n",
      "---  ------            --------------  -----         \n",
      " 0   name              8423 non-null   object        \n",
      " 1   datetime          8423 non-null   datetime64[ns]\n",
      " 2   tempmax           8423 non-null   float64       \n",
      " 3   tempmin           8423 non-null   float64       \n",
      " 4   temp              8423 non-null   float64       \n",
      " 5   feelslikemax      8423 non-null   float64       \n",
      " 6   feelslikemin      8423 non-null   float64       \n",
      " 7   feelslike         8423 non-null   float64       \n",
      " 8   dew               8423 non-null   float64       \n",
      " 9   humidity          8423 non-null   float64       \n",
      " 10  precip            4770 non-null   float64       \n",
      " 11  precipprob        8423 non-null   float64       \n",
      " 12  precipcover       8423 non-null   float64       \n",
      " 13  preciptype        245 non-null    object        \n",
      " 14  snow              378 non-null    float64       \n",
      " 15  snowdepth         379 non-null    float64       \n",
      " 16  windgust          468 non-null    float64       \n",
      " 17  windspeed         8423 non-null   float64       \n",
      " 18  winddir           8423 non-null   float64       \n",
      " 19  sealevelpressure  8416 non-null   float64       \n",
      " 20  cloudcover        8423 non-null   float64       \n",
      " 21  visibility        8422 non-null   float64       \n",
      " 22  solarradiation    4770 non-null   float64       \n",
      " 23  solarenergy       4770 non-null   float64       \n",
      " 24  uvindex           4770 non-null   float64       \n",
      " 25  severerisk        378 non-null    float64       \n",
      " 26  sunrise           8423 non-null   object        \n",
      " 27  sunset            8423 non-null   object        \n",
      " 28  moonphase         8423 non-null   float64       \n",
      " 29  conditions        8423 non-null   object        \n",
      " 30  description       8423 non-null   object        \n",
      " 31  icon              8423 non-null   object        \n",
      " 32  stations          8409 non-null   object        \n",
      "dtypes: datetime64[ns](1), float64(24), object(8)\n",
      "memory usage: 2.1+ MB\n"
     ]
    }
   ],
   "source": [
    "data.info()"
   ]
  },
  {
   "cell_type": "code",
   "execution_count": 6,
   "id": "3eecc75b-05b2-464f-ab55-d14b727e19e0",
   "metadata": {},
   "outputs": [
    {
     "data": {
      "text/plain": [
       "name                   0\n",
       "datetime               0\n",
       "tempmax                0\n",
       "tempmin                0\n",
       "temp                   0\n",
       "feelslikemax           0\n",
       "feelslikemin           0\n",
       "feelslike              0\n",
       "dew                    0\n",
       "humidity               0\n",
       "precip              3653\n",
       "precipprob             0\n",
       "precipcover            0\n",
       "preciptype          8178\n",
       "snow                8045\n",
       "snowdepth           8044\n",
       "windgust            7955\n",
       "windspeed              0\n",
       "winddir                0\n",
       "sealevelpressure       7\n",
       "cloudcover             0\n",
       "visibility             1\n",
       "solarradiation      3653\n",
       "solarenergy         3653\n",
       "uvindex             3653\n",
       "severerisk          8045\n",
       "sunrise                0\n",
       "sunset                 0\n",
       "moonphase              0\n",
       "conditions             0\n",
       "description            0\n",
       "icon                   0\n",
       "stations              14\n",
       "dtype: int64"
      ]
     },
     "execution_count": 6,
     "metadata": {},
     "output_type": "execute_result"
    }
   ],
   "source": [
    "data.isna().sum()"
   ]
  },
  {
   "cell_type": "code",
   "execution_count": 7,
   "id": "09bae580-9ac6-465d-bfb8-05f6d2757054",
   "metadata": {},
   "outputs": [
    {
     "data": {
      "text/html": [
       "<div>\n",
       "<style scoped>\n",
       "    .dataframe tbody tr th:only-of-type {\n",
       "        vertical-align: middle;\n",
       "    }\n",
       "\n",
       "    .dataframe tbody tr th {\n",
       "        vertical-align: top;\n",
       "    }\n",
       "\n",
       "    .dataframe thead th {\n",
       "        text-align: right;\n",
       "    }\n",
       "</style>\n",
       "<table border=\"1\" class=\"dataframe\">\n",
       "  <thead>\n",
       "    <tr style=\"text-align: right;\">\n",
       "      <th></th>\n",
       "      <th>name</th>\n",
       "      <th>datetime</th>\n",
       "      <th>tempmax</th>\n",
       "      <th>tempmin</th>\n",
       "      <th>temp</th>\n",
       "      <th>feelslikemax</th>\n",
       "      <th>feelslikemin</th>\n",
       "      <th>feelslike</th>\n",
       "      <th>dew</th>\n",
       "      <th>humidity</th>\n",
       "      <th>...</th>\n",
       "      <th>solarenergy</th>\n",
       "      <th>uvindex</th>\n",
       "      <th>severerisk</th>\n",
       "      <th>sunrise</th>\n",
       "      <th>sunset</th>\n",
       "      <th>moonphase</th>\n",
       "      <th>conditions</th>\n",
       "      <th>description</th>\n",
       "      <th>icon</th>\n",
       "      <th>stations</th>\n",
       "    </tr>\n",
       "  </thead>\n",
       "  <tbody>\n",
       "    <tr>\n",
       "      <th>3648</th>\n",
       "      <td>jeddah</td>\n",
       "      <td>2009-12-27</td>\n",
       "      <td>32.1</td>\n",
       "      <td>21.1</td>\n",
       "      <td>25.7</td>\n",
       "      <td>32.5</td>\n",
       "      <td>21.1</td>\n",
       "      <td>26.2</td>\n",
       "      <td>18.9</td>\n",
       "      <td>68.0</td>\n",
       "      <td>...</td>\n",
       "      <td>NaN</td>\n",
       "      <td>NaN</td>\n",
       "      <td>NaN</td>\n",
       "      <td>2009-12-27T06:59:28</td>\n",
       "      <td>2009-12-27T17:49:16</td>\n",
       "      <td>0.39</td>\n",
       "      <td>Partially cloudy</td>\n",
       "      <td>Partly cloudy throughout the day.</td>\n",
       "      <td>partly-cloudy-day</td>\n",
       "      <td>41024099999,41030099999</td>\n",
       "    </tr>\n",
       "    <tr>\n",
       "      <th>3649</th>\n",
       "      <td>jeddah</td>\n",
       "      <td>2009-12-28</td>\n",
       "      <td>33.2</td>\n",
       "      <td>20.9</td>\n",
       "      <td>26.0</td>\n",
       "      <td>32.0</td>\n",
       "      <td>20.9</td>\n",
       "      <td>25.8</td>\n",
       "      <td>16.8</td>\n",
       "      <td>61.0</td>\n",
       "      <td>...</td>\n",
       "      <td>NaN</td>\n",
       "      <td>NaN</td>\n",
       "      <td>NaN</td>\n",
       "      <td>2009-12-28T06:59:52</td>\n",
       "      <td>2009-12-28T17:49:51</td>\n",
       "      <td>0.43</td>\n",
       "      <td>Clear</td>\n",
       "      <td>Clear conditions throughout the day.</td>\n",
       "      <td>clear-day</td>\n",
       "      <td>41024099999,41030099999</td>\n",
       "    </tr>\n",
       "    <tr>\n",
       "      <th>3650</th>\n",
       "      <td>jeddah</td>\n",
       "      <td>2009-12-29</td>\n",
       "      <td>29.9</td>\n",
       "      <td>20.9</td>\n",
       "      <td>25.5</td>\n",
       "      <td>30.8</td>\n",
       "      <td>20.9</td>\n",
       "      <td>25.7</td>\n",
       "      <td>18.8</td>\n",
       "      <td>68.9</td>\n",
       "      <td>...</td>\n",
       "      <td>NaN</td>\n",
       "      <td>NaN</td>\n",
       "      <td>NaN</td>\n",
       "      <td>2009-12-29T07:00:16</td>\n",
       "      <td>2009-12-29T17:50:26</td>\n",
       "      <td>0.46</td>\n",
       "      <td>Clear</td>\n",
       "      <td>Clear conditions throughout the day.</td>\n",
       "      <td>clear-day</td>\n",
       "      <td>41024099999,41030099999</td>\n",
       "    </tr>\n",
       "    <tr>\n",
       "      <th>3651</th>\n",
       "      <td>jeddah</td>\n",
       "      <td>2009-12-30</td>\n",
       "      <td>29.3</td>\n",
       "      <td>20.1</td>\n",
       "      <td>24.6</td>\n",
       "      <td>30.7</td>\n",
       "      <td>20.1</td>\n",
       "      <td>24.9</td>\n",
       "      <td>18.6</td>\n",
       "      <td>71.1</td>\n",
       "      <td>...</td>\n",
       "      <td>NaN</td>\n",
       "      <td>NaN</td>\n",
       "      <td>NaN</td>\n",
       "      <td>2009-12-30T07:00:38</td>\n",
       "      <td>2009-12-30T17:51:02</td>\n",
       "      <td>0.49</td>\n",
       "      <td>Clear</td>\n",
       "      <td>Clear conditions throughout the day.</td>\n",
       "      <td>clear-day</td>\n",
       "      <td>41024099999,41030099999</td>\n",
       "    </tr>\n",
       "    <tr>\n",
       "      <th>3652</th>\n",
       "      <td>jeddah</td>\n",
       "      <td>2009-12-31</td>\n",
       "      <td>28.2</td>\n",
       "      <td>20.9</td>\n",
       "      <td>24.1</td>\n",
       "      <td>27.9</td>\n",
       "      <td>20.9</td>\n",
       "      <td>24.1</td>\n",
       "      <td>16.3</td>\n",
       "      <td>63.3</td>\n",
       "      <td>...</td>\n",
       "      <td>NaN</td>\n",
       "      <td>NaN</td>\n",
       "      <td>NaN</td>\n",
       "      <td>2009-12-31T07:00:59</td>\n",
       "      <td>2009-12-31T17:51:39</td>\n",
       "      <td>0.50</td>\n",
       "      <td>Partially cloudy</td>\n",
       "      <td>Partly cloudy throughout the day.</td>\n",
       "      <td>partly-cloudy-day</td>\n",
       "      <td>41024099999,41030099999</td>\n",
       "    </tr>\n",
       "  </tbody>\n",
       "</table>\n",
       "<p>5 rows × 33 columns</p>\n",
       "</div>"
      ],
      "text/plain": [
       "        name   datetime  tempmax  tempmin  temp  feelslikemax  feelslikemin  \\\n",
       "3648  jeddah 2009-12-27     32.1     21.1  25.7          32.5          21.1   \n",
       "3649  jeddah 2009-12-28     33.2     20.9  26.0          32.0          20.9   \n",
       "3650  jeddah 2009-12-29     29.9     20.9  25.5          30.8          20.9   \n",
       "3651  jeddah 2009-12-30     29.3     20.1  24.6          30.7          20.1   \n",
       "3652  jeddah 2009-12-31     28.2     20.9  24.1          27.9          20.9   \n",
       "\n",
       "      feelslike   dew  humidity  ...  solarenergy  uvindex  severerisk  \\\n",
       "3648       26.2  18.9      68.0  ...          NaN      NaN         NaN   \n",
       "3649       25.8  16.8      61.0  ...          NaN      NaN         NaN   \n",
       "3650       25.7  18.8      68.9  ...          NaN      NaN         NaN   \n",
       "3651       24.9  18.6      71.1  ...          NaN      NaN         NaN   \n",
       "3652       24.1  16.3      63.3  ...          NaN      NaN         NaN   \n",
       "\n",
       "                  sunrise               sunset  moonphase        conditions  \\\n",
       "3648  2009-12-27T06:59:28  2009-12-27T17:49:16       0.39  Partially cloudy   \n",
       "3649  2009-12-28T06:59:52  2009-12-28T17:49:51       0.43             Clear   \n",
       "3650  2009-12-29T07:00:16  2009-12-29T17:50:26       0.46             Clear   \n",
       "3651  2009-12-30T07:00:38  2009-12-30T17:51:02       0.49             Clear   \n",
       "3652  2009-12-31T07:00:59  2009-12-31T17:51:39       0.50  Partially cloudy   \n",
       "\n",
       "                               description               icon  \\\n",
       "3648     Partly cloudy throughout the day.  partly-cloudy-day   \n",
       "3649  Clear conditions throughout the day.          clear-day   \n",
       "3650  Clear conditions throughout the day.          clear-day   \n",
       "3651  Clear conditions throughout the day.          clear-day   \n",
       "3652     Partly cloudy throughout the day.  partly-cloudy-day   \n",
       "\n",
       "                     stations  \n",
       "3648  41024099999,41030099999  \n",
       "3649  41024099999,41030099999  \n",
       "3650  41024099999,41030099999  \n",
       "3651  41024099999,41030099999  \n",
       "3652  41024099999,41030099999  \n",
       "\n",
       "[5 rows x 33 columns]"
      ]
     },
     "execution_count": 7,
     "metadata": {},
     "output_type": "execute_result"
    }
   ],
   "source": [
    "data[data.precip.isna()].tail()"
   ]
  },
  {
   "cell_type": "code",
   "execution_count": 8,
   "id": "4ea79965-ced3-4f2e-a5a0-41b9a084e93e",
   "metadata": {},
   "outputs": [
    {
     "data": {
      "text/html": [
       "<div>\n",
       "<style scoped>\n",
       "    .dataframe tbody tr th:only-of-type {\n",
       "        vertical-align: middle;\n",
       "    }\n",
       "\n",
       "    .dataframe tbody tr th {\n",
       "        vertical-align: top;\n",
       "    }\n",
       "\n",
       "    .dataframe thead th {\n",
       "        text-align: right;\n",
       "    }\n",
       "</style>\n",
       "<table border=\"1\" class=\"dataframe\">\n",
       "  <thead>\n",
       "    <tr style=\"text-align: right;\">\n",
       "      <th></th>\n",
       "      <th>count</th>\n",
       "      <th>mean</th>\n",
       "      <th>std</th>\n",
       "      <th>min</th>\n",
       "      <th>25%</th>\n",
       "      <th>50%</th>\n",
       "      <th>75%</th>\n",
       "      <th>max</th>\n",
       "    </tr>\n",
       "  </thead>\n",
       "  <tbody>\n",
       "    <tr>\n",
       "      <th>tempmax</th>\n",
       "      <td>8423.0</td>\n",
       "      <td>34.756678</td>\n",
       "      <td>4.377694</td>\n",
       "      <td>20.8</td>\n",
       "      <td>31.40</td>\n",
       "      <td>35.2</td>\n",
       "      <td>38.00</td>\n",
       "      <td>50.2</td>\n",
       "    </tr>\n",
       "    <tr>\n",
       "      <th>tempmin</th>\n",
       "      <td>8423.0</td>\n",
       "      <td>24.590431</td>\n",
       "      <td>4.014583</td>\n",
       "      <td>6.6</td>\n",
       "      <td>21.90</td>\n",
       "      <td>24.9</td>\n",
       "      <td>27.60</td>\n",
       "      <td>34.0</td>\n",
       "    </tr>\n",
       "    <tr>\n",
       "      <th>temp</th>\n",
       "      <td>8423.0</td>\n",
       "      <td>29.381634</td>\n",
       "      <td>3.859501</td>\n",
       "      <td>17.7</td>\n",
       "      <td>26.30</td>\n",
       "      <td>29.9</td>\n",
       "      <td>32.70</td>\n",
       "      <td>38.6</td>\n",
       "    </tr>\n",
       "    <tr>\n",
       "      <th>feelslikemax</th>\n",
       "      <td>8423.0</td>\n",
       "      <td>37.740793</td>\n",
       "      <td>6.849940</td>\n",
       "      <td>20.8</td>\n",
       "      <td>32.10</td>\n",
       "      <td>38.0</td>\n",
       "      <td>43.00</td>\n",
       "      <td>65.6</td>\n",
       "    </tr>\n",
       "    <tr>\n",
       "      <th>feelslikemin</th>\n",
       "      <td>8423.0</td>\n",
       "      <td>25.676529</td>\n",
       "      <td>5.546736</td>\n",
       "      <td>1.8</td>\n",
       "      <td>21.90</td>\n",
       "      <td>24.9</td>\n",
       "      <td>29.70</td>\n",
       "      <td>45.4</td>\n",
       "    </tr>\n",
       "    <tr>\n",
       "      <th>feelslike</th>\n",
       "      <td>8423.0</td>\n",
       "      <td>31.577466</td>\n",
       "      <td>5.887943</td>\n",
       "      <td>17.7</td>\n",
       "      <td>26.50</td>\n",
       "      <td>31.7</td>\n",
       "      <td>36.30</td>\n",
       "      <td>51.6</td>\n",
       "    </tr>\n",
       "    <tr>\n",
       "      <th>dew</th>\n",
       "      <td>8423.0</td>\n",
       "      <td>18.770486</td>\n",
       "      <td>4.417663</td>\n",
       "      <td>-2.4</td>\n",
       "      <td>16.30</td>\n",
       "      <td>19.3</td>\n",
       "      <td>22.00</td>\n",
       "      <td>29.3</td>\n",
       "    </tr>\n",
       "    <tr>\n",
       "      <th>humidity</th>\n",
       "      <td>8423.0</td>\n",
       "      <td>55.749638</td>\n",
       "      <td>10.388795</td>\n",
       "      <td>17.1</td>\n",
       "      <td>48.80</td>\n",
       "      <td>56.6</td>\n",
       "      <td>63.30</td>\n",
       "      <td>88.0</td>\n",
       "    </tr>\n",
       "    <tr>\n",
       "      <th>precip</th>\n",
       "      <td>4770.0</td>\n",
       "      <td>0.117421</td>\n",
       "      <td>0.921357</td>\n",
       "      <td>0.0</td>\n",
       "      <td>0.00</td>\n",
       "      <td>0.0</td>\n",
       "      <td>0.00</td>\n",
       "      <td>33.5</td>\n",
       "    </tr>\n",
       "    <tr>\n",
       "      <th>precipprob</th>\n",
       "      <td>8423.0</td>\n",
       "      <td>2.859539</td>\n",
       "      <td>16.642183</td>\n",
       "      <td>0.0</td>\n",
       "      <td>0.00</td>\n",
       "      <td>0.0</td>\n",
       "      <td>0.00</td>\n",
       "      <td>100.0</td>\n",
       "    </tr>\n",
       "    <tr>\n",
       "      <th>precipcover</th>\n",
       "      <td>8423.0</td>\n",
       "      <td>0.947804</td>\n",
       "      <td>7.014705</td>\n",
       "      <td>0.0</td>\n",
       "      <td>0.00</td>\n",
       "      <td>0.0</td>\n",
       "      <td>0.00</td>\n",
       "      <td>100.0</td>\n",
       "    </tr>\n",
       "    <tr>\n",
       "      <th>snow</th>\n",
       "      <td>378.0</td>\n",
       "      <td>0.000000</td>\n",
       "      <td>0.000000</td>\n",
       "      <td>0.0</td>\n",
       "      <td>0.00</td>\n",
       "      <td>0.0</td>\n",
       "      <td>0.00</td>\n",
       "      <td>0.0</td>\n",
       "    </tr>\n",
       "    <tr>\n",
       "      <th>snowdepth</th>\n",
       "      <td>379.0</td>\n",
       "      <td>0.026385</td>\n",
       "      <td>0.513665</td>\n",
       "      <td>0.0</td>\n",
       "      <td>0.00</td>\n",
       "      <td>0.0</td>\n",
       "      <td>0.00</td>\n",
       "      <td>10.0</td>\n",
       "    </tr>\n",
       "    <tr>\n",
       "      <th>windgust</th>\n",
       "      <td>468.0</td>\n",
       "      <td>33.652991</td>\n",
       "      <td>15.536513</td>\n",
       "      <td>10.7</td>\n",
       "      <td>22.70</td>\n",
       "      <td>30.2</td>\n",
       "      <td>41.40</td>\n",
       "      <td>185.4</td>\n",
       "    </tr>\n",
       "    <tr>\n",
       "      <th>windspeed</th>\n",
       "      <td>8423.0</td>\n",
       "      <td>24.404060</td>\n",
       "      <td>6.272376</td>\n",
       "      <td>8.0</td>\n",
       "      <td>20.50</td>\n",
       "      <td>23.6</td>\n",
       "      <td>27.40</td>\n",
       "      <td>197.5</td>\n",
       "    </tr>\n",
       "    <tr>\n",
       "      <th>winddir</th>\n",
       "      <td>8423.0</td>\n",
       "      <td>287.527033</td>\n",
       "      <td>66.331045</td>\n",
       "      <td>0.0</td>\n",
       "      <td>271.20</td>\n",
       "      <td>308.1</td>\n",
       "      <td>328.55</td>\n",
       "      <td>359.9</td>\n",
       "    </tr>\n",
       "    <tr>\n",
       "      <th>sealevelpressure</th>\n",
       "      <td>8416.0</td>\n",
       "      <td>1008.629087</td>\n",
       "      <td>4.330807</td>\n",
       "      <td>997.3</td>\n",
       "      <td>1004.90</td>\n",
       "      <td>1008.7</td>\n",
       "      <td>1012.10</td>\n",
       "      <td>1021.3</td>\n",
       "    </tr>\n",
       "    <tr>\n",
       "      <th>cloudcover</th>\n",
       "      <td>8423.0</td>\n",
       "      <td>22.149400</td>\n",
       "      <td>17.118152</td>\n",
       "      <td>0.0</td>\n",
       "      <td>7.00</td>\n",
       "      <td>20.2</td>\n",
       "      <td>34.10</td>\n",
       "      <td>91.9</td>\n",
       "    </tr>\n",
       "    <tr>\n",
       "      <th>visibility</th>\n",
       "      <td>8422.0</td>\n",
       "      <td>9.862444</td>\n",
       "      <td>0.855044</td>\n",
       "      <td>1.8</td>\n",
       "      <td>9.90</td>\n",
       "      <td>10.0</td>\n",
       "      <td>10.00</td>\n",
       "      <td>24.1</td>\n",
       "    </tr>\n",
       "    <tr>\n",
       "      <th>solarradiation</th>\n",
       "      <td>4770.0</td>\n",
       "      <td>260.313732</td>\n",
       "      <td>51.460273</td>\n",
       "      <td>21.7</td>\n",
       "      <td>217.30</td>\n",
       "      <td>265.8</td>\n",
       "      <td>305.00</td>\n",
       "      <td>353.4</td>\n",
       "    </tr>\n",
       "    <tr>\n",
       "      <th>solarenergy</th>\n",
       "      <td>4770.0</td>\n",
       "      <td>22.484382</td>\n",
       "      <td>4.451631</td>\n",
       "      <td>1.7</td>\n",
       "      <td>18.80</td>\n",
       "      <td>22.9</td>\n",
       "      <td>26.40</td>\n",
       "      <td>30.6</td>\n",
       "    </tr>\n",
       "    <tr>\n",
       "      <th>uvindex</th>\n",
       "      <td>4770.0</td>\n",
       "      <td>8.757023</td>\n",
       "      <td>1.279661</td>\n",
       "      <td>2.0</td>\n",
       "      <td>8.00</td>\n",
       "      <td>9.0</td>\n",
       "      <td>10.00</td>\n",
       "      <td>10.0</td>\n",
       "    </tr>\n",
       "    <tr>\n",
       "      <th>severerisk</th>\n",
       "      <td>378.0</td>\n",
       "      <td>22.574074</td>\n",
       "      <td>20.100439</td>\n",
       "      <td>5.0</td>\n",
       "      <td>10.00</td>\n",
       "      <td>10.0</td>\n",
       "      <td>30.00</td>\n",
       "      <td>100.0</td>\n",
       "    </tr>\n",
       "    <tr>\n",
       "      <th>moonphase</th>\n",
       "      <td>8423.0</td>\n",
       "      <td>0.501998</td>\n",
       "      <td>0.307724</td>\n",
       "      <td>0.0</td>\n",
       "      <td>0.25</td>\n",
       "      <td>0.5</td>\n",
       "      <td>0.75</td>\n",
       "      <td>1.0</td>\n",
       "    </tr>\n",
       "  </tbody>\n",
       "</table>\n",
       "</div>"
      ],
      "text/plain": [
       "                   count         mean        std    min      25%     50%  \\\n",
       "tempmax           8423.0    34.756678   4.377694   20.8    31.40    35.2   \n",
       "tempmin           8423.0    24.590431   4.014583    6.6    21.90    24.9   \n",
       "temp              8423.0    29.381634   3.859501   17.7    26.30    29.9   \n",
       "feelslikemax      8423.0    37.740793   6.849940   20.8    32.10    38.0   \n",
       "feelslikemin      8423.0    25.676529   5.546736    1.8    21.90    24.9   \n",
       "feelslike         8423.0    31.577466   5.887943   17.7    26.50    31.7   \n",
       "dew               8423.0    18.770486   4.417663   -2.4    16.30    19.3   \n",
       "humidity          8423.0    55.749638  10.388795   17.1    48.80    56.6   \n",
       "precip            4770.0     0.117421   0.921357    0.0     0.00     0.0   \n",
       "precipprob        8423.0     2.859539  16.642183    0.0     0.00     0.0   \n",
       "precipcover       8423.0     0.947804   7.014705    0.0     0.00     0.0   \n",
       "snow               378.0     0.000000   0.000000    0.0     0.00     0.0   \n",
       "snowdepth          379.0     0.026385   0.513665    0.0     0.00     0.0   \n",
       "windgust           468.0    33.652991  15.536513   10.7    22.70    30.2   \n",
       "windspeed         8423.0    24.404060   6.272376    8.0    20.50    23.6   \n",
       "winddir           8423.0   287.527033  66.331045    0.0   271.20   308.1   \n",
       "sealevelpressure  8416.0  1008.629087   4.330807  997.3  1004.90  1008.7   \n",
       "cloudcover        8423.0    22.149400  17.118152    0.0     7.00    20.2   \n",
       "visibility        8422.0     9.862444   0.855044    1.8     9.90    10.0   \n",
       "solarradiation    4770.0   260.313732  51.460273   21.7   217.30   265.8   \n",
       "solarenergy       4770.0    22.484382   4.451631    1.7    18.80    22.9   \n",
       "uvindex           4770.0     8.757023   1.279661    2.0     8.00     9.0   \n",
       "severerisk         378.0    22.574074  20.100439    5.0    10.00    10.0   \n",
       "moonphase         8423.0     0.501998   0.307724    0.0     0.25     0.5   \n",
       "\n",
       "                      75%     max  \n",
       "tempmax             38.00    50.2  \n",
       "tempmin             27.60    34.0  \n",
       "temp                32.70    38.6  \n",
       "feelslikemax        43.00    65.6  \n",
       "feelslikemin        29.70    45.4  \n",
       "feelslike           36.30    51.6  \n",
       "dew                 22.00    29.3  \n",
       "humidity            63.30    88.0  \n",
       "precip               0.00    33.5  \n",
       "precipprob           0.00   100.0  \n",
       "precipcover          0.00   100.0  \n",
       "snow                 0.00     0.0  \n",
       "snowdepth            0.00    10.0  \n",
       "windgust            41.40   185.4  \n",
       "windspeed           27.40   197.5  \n",
       "winddir            328.55   359.9  \n",
       "sealevelpressure  1012.10  1021.3  \n",
       "cloudcover          34.10    91.9  \n",
       "visibility          10.00    24.1  \n",
       "solarradiation     305.00   353.4  \n",
       "solarenergy         26.40    30.6  \n",
       "uvindex             10.00    10.0  \n",
       "severerisk          30.00   100.0  \n",
       "moonphase            0.75     1.0  "
      ]
     },
     "execution_count": 8,
     "metadata": {},
     "output_type": "execute_result"
    }
   ],
   "source": [
    "data.describe().T"
   ]
  },
  {
   "cell_type": "markdown",
   "id": "b501e1b2-ccc6-40a6-9a32-f86f854298bb",
   "metadata": {},
   "source": [
    "## Data Preparation\n",
    "\n",
    "We choose the parameters relevant to our analysis and add new time features to make the visualization easier. Also, create new data frames with different time scales."
   ]
  },
  {
   "cell_type": "code",
   "execution_count": 9,
   "id": "fac1bd7e-f693-4e29-b348-90ea9280c84b",
   "metadata": {},
   "outputs": [
    {
     "data": {
      "text/html": [
       "<div>\n",
       "<style scoped>\n",
       "    .dataframe tbody tr th:only-of-type {\n",
       "        vertical-align: middle;\n",
       "    }\n",
       "\n",
       "    .dataframe tbody tr th {\n",
       "        vertical-align: top;\n",
       "    }\n",
       "\n",
       "    .dataframe thead th {\n",
       "        text-align: right;\n",
       "    }\n",
       "</style>\n",
       "<table border=\"1\" class=\"dataframe\">\n",
       "  <thead>\n",
       "    <tr style=\"text-align: right;\">\n",
       "      <th></th>\n",
       "      <th>datetime</th>\n",
       "      <th>precip</th>\n",
       "    </tr>\n",
       "  </thead>\n",
       "  <tbody>\n",
       "    <tr>\n",
       "      <th>0</th>\n",
       "      <td>2000-01-01</td>\n",
       "      <td>NaN</td>\n",
       "    </tr>\n",
       "    <tr>\n",
       "      <th>1</th>\n",
       "      <td>2000-01-02</td>\n",
       "      <td>NaN</td>\n",
       "    </tr>\n",
       "    <tr>\n",
       "      <th>2</th>\n",
       "      <td>2000-01-03</td>\n",
       "      <td>NaN</td>\n",
       "    </tr>\n",
       "    <tr>\n",
       "      <th>3</th>\n",
       "      <td>2000-01-04</td>\n",
       "      <td>NaN</td>\n",
       "    </tr>\n",
       "    <tr>\n",
       "      <th>4</th>\n",
       "      <td>2000-01-05</td>\n",
       "      <td>NaN</td>\n",
       "    </tr>\n",
       "    <tr>\n",
       "      <th>...</th>\n",
       "      <td>...</td>\n",
       "      <td>...</td>\n",
       "    </tr>\n",
       "    <tr>\n",
       "      <th>8418</th>\n",
       "      <td>2023-01-18</td>\n",
       "      <td>0.0</td>\n",
       "    </tr>\n",
       "    <tr>\n",
       "      <th>8419</th>\n",
       "      <td>2023-01-19</td>\n",
       "      <td>0.0</td>\n",
       "    </tr>\n",
       "    <tr>\n",
       "      <th>8420</th>\n",
       "      <td>2023-01-20</td>\n",
       "      <td>0.0</td>\n",
       "    </tr>\n",
       "    <tr>\n",
       "      <th>8421</th>\n",
       "      <td>2023-01-21</td>\n",
       "      <td>0.0</td>\n",
       "    </tr>\n",
       "    <tr>\n",
       "      <th>8422</th>\n",
       "      <td>2023-01-22</td>\n",
       "      <td>0.0</td>\n",
       "    </tr>\n",
       "  </tbody>\n",
       "</table>\n",
       "<p>8423 rows × 2 columns</p>\n",
       "</div>"
      ],
      "text/plain": [
       "       datetime  precip\n",
       "0    2000-01-01     NaN\n",
       "1    2000-01-02     NaN\n",
       "2    2000-01-03     NaN\n",
       "3    2000-01-04     NaN\n",
       "4    2000-01-05     NaN\n",
       "...         ...     ...\n",
       "8418 2023-01-18     0.0\n",
       "8419 2023-01-19     0.0\n",
       "8420 2023-01-20     0.0\n",
       "8421 2023-01-21     0.0\n",
       "8422 2023-01-22     0.0\n",
       "\n",
       "[8423 rows x 2 columns]"
      ]
     },
     "execution_count": 9,
     "metadata": {},
     "output_type": "execute_result"
    }
   ],
   "source": [
    "df = data[['datetime','precip']]\n",
    "df"
   ]
  },
  {
   "cell_type": "code",
   "execution_count": 10,
   "id": "d75ea083-dcc9-46e4-a1f3-511e34eed057",
   "metadata": {},
   "outputs": [
    {
     "data": {
      "text/html": [
       "<div>\n",
       "<style scoped>\n",
       "    .dataframe tbody tr th:only-of-type {\n",
       "        vertical-align: middle;\n",
       "    }\n",
       "\n",
       "    .dataframe tbody tr th {\n",
       "        vertical-align: top;\n",
       "    }\n",
       "\n",
       "    .dataframe thead th {\n",
       "        text-align: right;\n",
       "    }\n",
       "</style>\n",
       "<table border=\"1\" class=\"dataframe\">\n",
       "  <thead>\n",
       "    <tr style=\"text-align: right;\">\n",
       "      <th></th>\n",
       "      <th>index</th>\n",
       "      <th>datetime</th>\n",
       "      <th>precip</th>\n",
       "      <th>month</th>\n",
       "      <th>year</th>\n",
       "      <th>weekday</th>\n",
       "      <th>season</th>\n",
       "    </tr>\n",
       "  </thead>\n",
       "  <tbody>\n",
       "    <tr>\n",
       "      <th>0</th>\n",
       "      <td>3653</td>\n",
       "      <td>2010-01-01</td>\n",
       "      <td>0.0</td>\n",
       "      <td>1</td>\n",
       "      <td>2010</td>\n",
       "      <td>Friday</td>\n",
       "      <td>Winter</td>\n",
       "    </tr>\n",
       "    <tr>\n",
       "      <th>1</th>\n",
       "      <td>3654</td>\n",
       "      <td>2010-01-02</td>\n",
       "      <td>0.0</td>\n",
       "      <td>1</td>\n",
       "      <td>2010</td>\n",
       "      <td>Saturday</td>\n",
       "      <td>Winter</td>\n",
       "    </tr>\n",
       "    <tr>\n",
       "      <th>2</th>\n",
       "      <td>3655</td>\n",
       "      <td>2010-01-03</td>\n",
       "      <td>0.0</td>\n",
       "      <td>1</td>\n",
       "      <td>2010</td>\n",
       "      <td>Sunday</td>\n",
       "      <td>Winter</td>\n",
       "    </tr>\n",
       "    <tr>\n",
       "      <th>3</th>\n",
       "      <td>3656</td>\n",
       "      <td>2010-01-04</td>\n",
       "      <td>0.0</td>\n",
       "      <td>1</td>\n",
       "      <td>2010</td>\n",
       "      <td>Monday</td>\n",
       "      <td>Winter</td>\n",
       "    </tr>\n",
       "    <tr>\n",
       "      <th>4</th>\n",
       "      <td>3657</td>\n",
       "      <td>2010-01-05</td>\n",
       "      <td>0.0</td>\n",
       "      <td>1</td>\n",
       "      <td>2010</td>\n",
       "      <td>Tuesday</td>\n",
       "      <td>Winter</td>\n",
       "    </tr>\n",
       "    <tr>\n",
       "      <th>...</th>\n",
       "      <td>...</td>\n",
       "      <td>...</td>\n",
       "      <td>...</td>\n",
       "      <td>...</td>\n",
       "      <td>...</td>\n",
       "      <td>...</td>\n",
       "      <td>...</td>\n",
       "    </tr>\n",
       "    <tr>\n",
       "      <th>4751</th>\n",
       "      <td>8404</td>\n",
       "      <td>2023-01-04</td>\n",
       "      <td>7.2</td>\n",
       "      <td>1</td>\n",
       "      <td>2023</td>\n",
       "      <td>Wednesday</td>\n",
       "      <td>Winter</td>\n",
       "    </tr>\n",
       "    <tr>\n",
       "      <th>4752</th>\n",
       "      <td>8405</td>\n",
       "      <td>2023-01-05</td>\n",
       "      <td>0.6</td>\n",
       "      <td>1</td>\n",
       "      <td>2023</td>\n",
       "      <td>Thursday</td>\n",
       "      <td>Winter</td>\n",
       "    </tr>\n",
       "    <tr>\n",
       "      <th>4753</th>\n",
       "      <td>8406</td>\n",
       "      <td>2023-01-06</td>\n",
       "      <td>0.0</td>\n",
       "      <td>1</td>\n",
       "      <td>2023</td>\n",
       "      <td>Friday</td>\n",
       "      <td>Winter</td>\n",
       "    </tr>\n",
       "    <tr>\n",
       "      <th>4754</th>\n",
       "      <td>8407</td>\n",
       "      <td>2023-01-07</td>\n",
       "      <td>0.0</td>\n",
       "      <td>1</td>\n",
       "      <td>2023</td>\n",
       "      <td>Saturday</td>\n",
       "      <td>Winter</td>\n",
       "    </tr>\n",
       "    <tr>\n",
       "      <th>4755</th>\n",
       "      <td>8408</td>\n",
       "      <td>2023-01-08</td>\n",
       "      <td>0.0</td>\n",
       "      <td>1</td>\n",
       "      <td>2023</td>\n",
       "      <td>Sunday</td>\n",
       "      <td>Winter</td>\n",
       "    </tr>\n",
       "  </tbody>\n",
       "</table>\n",
       "<p>4756 rows × 7 columns</p>\n",
       "</div>"
      ],
      "text/plain": [
       "      index   datetime  precip  month  year    weekday  season\n",
       "0      3653 2010-01-01     0.0      1  2010     Friday  Winter\n",
       "1      3654 2010-01-02     0.0      1  2010   Saturday  Winter\n",
       "2      3655 2010-01-03     0.0      1  2010     Sunday  Winter\n",
       "3      3656 2010-01-04     0.0      1  2010     Monday  Winter\n",
       "4      3657 2010-01-05     0.0      1  2010    Tuesday  Winter\n",
       "...     ...        ...     ...    ...   ...        ...     ...\n",
       "4751   8404 2023-01-04     7.2      1  2023  Wednesday  Winter\n",
       "4752   8405 2023-01-05     0.6      1  2023   Thursday  Winter\n",
       "4753   8406 2023-01-06     0.0      1  2023     Friday  Winter\n",
       "4754   8407 2023-01-07     0.0      1  2023   Saturday  Winter\n",
       "4755   8408 2023-01-08     0.0      1  2023     Sunday  Winter\n",
       "\n",
       "[4756 rows x 7 columns]"
      ]
     },
     "execution_count": 10,
     "metadata": {},
     "output_type": "execute_result"
    }
   ],
   "source": [
    "df['month'] = df.datetime.dt.month\n",
    "df['year'] = df.datetime.dt.year\n",
    "df['weekday'] = df.datetime.dt.weekday\n",
    "df = df[df.year > 2009].reset_index()\n",
    "df = df.iloc[:4756]\n",
    "season_dict = {1: 'Winter',\n",
    "               2: 'Winter',\n",
    "               3: 'Spring', \n",
    "               4: 'Spring',\n",
    "               5: 'Spring',\n",
    "               6: 'Summer',\n",
    "               7: 'Summer',\n",
    "               8: 'Summer',\n",
    "               9: 'Fall',\n",
    "               10: 'Fall',\n",
    "               11: 'Fall',\n",
    "               12: 'Winter'}\n",
    "df['season'] = df['month'].apply(lambda x: season_dict[x])\n",
    "df['weekday'] = df['weekday'].map({0: 'Monday', 1: 'Tuesday', 2: 'Wednesday', 3: 'Thursday', 4: 'Friday', 5: 'Saturday', 6: 'Sunday'})\n",
    "df"
   ]
  },
  {
   "cell_type": "markdown",
   "id": "bcbad217-4bdb-48e2-8483-c6b8995b89b5",
   "metadata": {},
   "source": [
    "The entries before 2010 were removed because there is no data on the precipitation before 2010. The data after 2023-01-08 was removed because it’s a forecast."
   ]
  },
  {
   "cell_type": "code",
   "execution_count": 11,
   "id": "cedec076-7df2-44e3-aed0-76b14fb1d80b",
   "metadata": {},
   "outputs": [],
   "source": [
    "weeklydf = df[['datetime','precip']].set_index('datetime').resample('W').sum()\n",
    "monthlydf = df[['datetime','precip']].set_index('datetime').resample('M').sum()\n",
    "yearlydf = df[['datetime','precip']].set_index('datetime').resample('Y').sum()\n",
    "dailydf = df[['datetime','precip']].set_index('datetime')"
   ]
  },
  {
   "cell_type": "markdown",
   "id": "1681a039-a11b-4e63-9b49-a94d538a35c4",
   "metadata": {},
   "source": [
    "## Precipitation volume over time\n",
    "\n",
    "Here we look at the amount of precipitation over the years."
   ]
  },
  {
   "cell_type": "markdown",
   "id": "65b693e4-efbb-4aa0-8b08-44568bf8aee8",
   "metadata": {},
   "source": [
    "Precipitation volume over the last 13 years in different time scales."
   ]
  },
  {
   "cell_type": "code",
   "execution_count": 12,
   "id": "6e46626a-c97a-4b3c-991c-156a565c14d1",
   "metadata": {},
   "outputs": [
    {
     "data": {
      "text/plain": [
       "240"
      ]
     },
     "execution_count": 12,
     "metadata": {},
     "output_type": "execute_result"
    }
   ],
   "source": [
    "df[df.precip > 0].precip.count()"
   ]
  },
  {
   "cell_type": "markdown",
   "id": "ab04ce0f-c718-48dd-8991-ba23c44412f0",
   "metadata": {},
   "source": [
    "In the last 13 years Jeddah saw 240 rainy days."
   ]
  },
  {
   "cell_type": "code",
   "execution_count": 13,
   "id": "607e1d14-926c-4ffb-b60b-a4984e20f449",
   "metadata": {},
   "outputs": [
    {
     "data": {
      "text/plain": [
       "<AxesSubplot:xlabel='datetime', ylabel='precip'>"
      ]
     },
     "execution_count": 13,
     "metadata": {},
     "output_type": "execute_result"
    },
    {
     "data": {
      "image/png": "[encoded data removed]",
      "text/plain": [
       "<Figure size 640x480 with 1 Axes>"
      ]
     },
     "metadata": {},
     "output_type": "display_data"
    }
   ],
   "source": [
    "sns.lineplot(dailydf, x='datetime',y='precip')"
   ]
  },
  {
   "cell_type": "code",
   "execution_count": 14,
   "id": "7abff72d-124e-439d-8614-6524053b395b",
   "metadata": {},
   "outputs": [
    {
     "data": {
      "text/plain": [
       "<AxesSubplot:xlabel='datetime', ylabel='precip'>"
      ]
     },
     "execution_count": 14,
     "metadata": {},
     "output_type": "execute_result"
    },
    {
     "data": {
      "image/png": "[encoded data removed]",
      "text/plain": [
       "<Figure size 640x480 with 1 Axes>"
      ]
     },
     "metadata": {},
     "output_type": "display_data"
    }
   ],
   "source": [
    "sns.lineplot(weeklydf, x='datetime',y='precip')"
   ]
  },
  {
   "cell_type": "code",
   "execution_count": 15,
   "id": "f37e6112-adb2-4713-8b9f-86bd73667ca3",
   "metadata": {},
   "outputs": [
    {
     "data": {
      "text/plain": [
       "<AxesSubplot:xlabel='datetime', ylabel='precip'>"
      ]
     },
     "execution_count": 15,
     "metadata": {},
     "output_type": "execute_result"
    },
    {
     "data": {
      "image/png": "[encoded data removed]",
      "text/plain": [
       "<Figure size 640x480 with 1 Axes>"
      ]
     },
     "metadata": {},
     "output_type": "display_data"
    }
   ],
   "source": [
    "sns.lineplot(monthlydf, x='datetime',y='precip')"
   ]
  },
  {
   "cell_type": "code",
   "execution_count": 16,
   "id": "7576b0df-d199-4a53-9289-cfc028e37440",
   "metadata": {},
   "outputs": [
    {
     "data": {
      "text/plain": [
       "<AxesSubplot:xlabel='year', ylabel='precip'>"
      ]
     },
     "execution_count": 16,
     "metadata": {},
     "output_type": "execute_result"
    },
    {
     "data": {
      "image/png": "[encoded data removed]",
      "text/plain": [
       "<Figure size 640x480 with 1 Axes>"
      ]
     },
     "metadata": {},
     "output_type": "display_data"
    }
   ],
   "source": [
    "sns.barplot(df.groupby('year').precip.sum().reset_index(), x='year', y='precip')"
   ]
  },
  {
   "cell_type": "markdown",
   "id": "4ac609dd-575e-4adb-8bc3-2da75f34e837",
   "metadata": {},
   "source": [
    "The monthly precipitation for each year."
   ]
  },
  {
   "cell_type": "code",
   "execution_count": 17,
   "id": "d0f39be6-c654-4bee-a519-b46ee62813f2",
   "metadata": {},
   "outputs": [
    {
     "data": {
      "image/png": "[encoded data removed]",
      "text/plain": [
       "<Figure size 2000x2000 with 16 Axes>"
      ]
     },
     "metadata": {},
     "output_type": "display_data"
    }
   ],
   "source": [
    "year = df.year.unique()\n",
    "fig, axes = plt.subplots(4,4,figsize=(20,20))\n",
    "fig.tight_layout()\n",
    "plt.subplots_adjust(hspace=0.5)\n",
    "for i, y in enumerate(year):\n",
    "     if i < 4:\n",
    "        sns.barplot(df[df.year == y], x='month', y='precip', ax=axes[0][i]).set(title=f'{y}')\n",
    "     if i >= 4 and i < 8:\n",
    "        sns.barplot(df[df.year == y], x='month', y='precip', ax=axes[1][i-4]).set(title=f'{y}')\n",
    "     if i >= 8 and i < 12:\n",
    "        sns.barplot(df[df.year == y], x='month', y='precip', ax=axes[2][i-8]).set(title=f'{y}')\n",
    "     if i >= 12:  \n",
    "        sns.barplot(df[df.year == y], x='month', y='precip', ax=axes[3][i-12]).set(title=f'{y}')"
   ]
  },
  {
   "cell_type": "markdown",
   "id": "b640cbb7-1e2d-4da6-93f7-75063d224575",
   "metadata": {},
   "source": [
    "## Precipitation patterns\n",
    "\n",
    "Here we explore the patterns of precipitation."
   ]
  },
  {
   "cell_type": "code",
   "execution_count": 18,
   "id": "0de747ab-2c12-4a57-876e-8d1f7c800c3a",
   "metadata": {},
   "outputs": [
    {
     "data": {
      "text/plain": [
       "<AxesSubplot:xlabel='season', ylabel='precip'>"
      ]
     },
     "execution_count": 18,
     "metadata": {},
     "output_type": "execute_result"
    },
    {
     "data": {
      "image/png": "[encoded data removed]",
      "text/plain": [
       "<Figure size 640x480 with 1 Axes>"
      ]
     },
     "metadata": {},
     "output_type": "display_data"
    }
   ],
   "source": [
    "sns.barplot(df.groupby('season').precip.mean().reset_index(), x='season', y='precip')"
   ]
  },
  {
   "cell_type": "markdown",
   "id": "b32394f0-b582-4252-a55a-f658299b2078",
   "metadata": {},
   "source": [
    "Most of the precipitation is received in the winter, fall is second."
   ]
  },
  {
   "cell_type": "code",
   "execution_count": 19,
   "id": "e5593f51-25b4-4512-9119-3433ad1ccf44",
   "metadata": {},
   "outputs": [
    {
     "data": {
      "text/plain": [
       "<AxesSubplot:xlabel='month', ylabel='precip'>"
      ]
     },
     "execution_count": 19,
     "metadata": {},
     "output_type": "execute_result"
    },
    {
     "data": {
      "image/png": "[encoded data removed]",
      "text/plain": [
       "<Figure size 640x480 with 1 Axes>"
      ]
     },
     "metadata": {},
     "output_type": "display_data"
    }
   ],
   "source": [
    "sns.barplot(df.groupby('month').precip.mean().reset_index(), x='month', y='precip')"
   ]
  },
  {
   "cell_type": "markdown",
   "id": "6e3872e1-0155-46c9-a062-e2ab1ceda622",
   "metadata": {},
   "source": [
    "The months of the most precipitation are November December and January. April is also seeing a large volume of precipitation."
   ]
  },
  {
   "cell_type": "code",
   "execution_count": 20,
   "id": "6229fac4-6de0-4c2c-9347-7546ed55594d",
   "metadata": {},
   "outputs": [
    {
     "data": {
      "text/plain": [
       "<AxesSubplot:xlabel='weekday', ylabel='precip'>"
      ]
     },
     "execution_count": 20,
     "metadata": {},
     "output_type": "execute_result"
    },
    {
     "data": {
      "image/png": "[encoded data removed]",
      "text/plain": [
       "<Figure size 640x480 with 1 Axes>"
      ]
     },
     "metadata": {},
     "output_type": "display_data"
    }
   ],
   "source": [
    "sns.barplot(df.groupby('weekday').mean().reset_index(), x='weekday', y='precip', order=['Sunday', 'Monday', 'Tuesday', 'Wednesday', 'Thursday', 'Friday', 'Saturday'])"
   ]
  },
  {
   "cell_type": "code",
   "execution_count": 21,
   "id": "b20ea391-e602-4c53-88d2-be981085d4a4",
   "metadata": {},
   "outputs": [
    {
     "data": {
      "text/plain": [
       "Friday       45\n",
       "Saturday     41\n",
       "Thursday     34\n",
       "Wednesday    33\n",
       "Monday       31\n",
       "Tuesday      31\n",
       "Sunday       25\n",
       "Name: weekday, dtype: int64"
      ]
     },
     "execution_count": 21,
     "metadata": {},
     "output_type": "execute_result"
    }
   ],
   "source": [
    "df[df.precip > 0].weekday.value_counts()"
   ]
  },
  {
   "cell_type": "code",
   "execution_count": 22,
   "id": "81a3f155-38e6-43cf-9040-e0ba113cd7b1",
   "metadata": {},
   "outputs": [
    {
     "data": {
      "text/plain": [
       "<AxesSubplot:xlabel='weekday', ylabel='Count'>"
      ]
     },
     "execution_count": 22,
     "metadata": {},
     "output_type": "execute_result"
    },
    {
     "data": {
      "image/png": "[encoded data removed]",
      "text/plain": [
       "<Figure size 640x480 with 1 Axes>"
      ]
     },
     "metadata": {},
     "output_type": "display_data"
    }
   ],
   "source": [
    "sns.histplot(df[df.precip > 0].weekday)"
   ]
  },
  {
   "cell_type": "markdown",
   "id": "9258b520-ed5f-4003-9600-e5c3e065bd1f",
   "metadata": {},
   "source": [
    "Friday sees heavier precipitation than other days of the week. It’s also the rainiest day. 45 days out of 240."
   ]
  },
  {
   "cell_type": "markdown",
   "id": "3354c50f-1f6f-4e63-8f13-34a69e629afc",
   "metadata": {},
   "source": [
    "## Distributions and Statistics\n",
    "\n",
    "Here we look at how the data is distributed and some statistics about the data."
   ]
  },
  {
   "cell_type": "code",
   "execution_count": 23,
   "id": "65980aa2-f31b-4c37-aeaa-18582cae5eae",
   "metadata": {},
   "outputs": [
    {
     "data": {
      "text/plain": [
       "<AxesSubplot:ylabel='Count'>"
      ]
     },
     "execution_count": 23,
     "metadata": {},
     "output_type": "execute_result"
    },
    {
     "data": {
      "image/png": "[encoded data removed]",
      "text/plain": [
       "<Figure size 640x480 with 1 Axes>"
      ]
     },
     "metadata": {},
     "output_type": "display_data"
    }
   ],
   "source": [
    "sns.histplot(dailydf[dailydf != 0])"
   ]
  },
  {
   "cell_type": "code",
   "execution_count": 24,
   "id": "c9880555-0790-452c-a0aa-06461a8bb44f",
   "metadata": {},
   "outputs": [
    {
     "data": {
      "text/plain": [
       "<AxesSubplot:>"
      ]
     },
     "execution_count": 24,
     "metadata": {},
     "output_type": "execute_result"
    },
    {
     "data": {
      "image/png": "[encoded data removed]",
      "text/plain": [
       "<Figure size 640x480 with 1 Axes>"
      ]
     },
     "metadata": {},
     "output_type": "display_data"
    }
   ],
   "source": [
    "sns.boxplot(dailydf[dailydf.precip != 0])"
   ]
  },
  {
   "cell_type": "code",
   "execution_count": 25,
   "id": "ace9dcf9-29d1-4500-9627-57ed5aa78a8b",
   "metadata": {},
   "outputs": [
    {
     "data": {
      "text/plain": [
       "precip    33.5\n",
       "dtype: float64"
      ]
     },
     "execution_count": 25,
     "metadata": {},
     "output_type": "execute_result"
    }
   ],
   "source": [
    "dailydf.max()"
   ]
  },
  {
   "cell_type": "code",
   "execution_count": 26,
   "id": "cd1c063f-fd1f-4924-b4e1-c0117ad40a34",
   "metadata": {},
   "outputs": [
    {
     "data": {
      "text/plain": [
       "precip    1.561364\n",
       "dtype: float64"
      ]
     },
     "execution_count": 26,
     "metadata": {},
     "output_type": "execute_result"
    }
   ],
   "source": [
    "daily_no_outliers = remove_iqr_outliers(dailydf)\n",
    "daily_no_outliers[daily_no_outliers.precip != 0].mean()"
   ]
  },
  {
   "cell_type": "code",
   "execution_count": 27,
   "id": "6682d266-2082-46e4-8e15-8b57e04c3891",
   "metadata": {},
   "outputs": [
    {
     "data": {
      "text/html": [
       "<div>\n",
       "<style scoped>\n",
       "    .dataframe tbody tr th:only-of-type {\n",
       "        vertical-align: middle;\n",
       "    }\n",
       "\n",
       "    .dataframe tbody tr th {\n",
       "        vertical-align: top;\n",
       "    }\n",
       "\n",
       "    .dataframe thead th {\n",
       "        text-align: right;\n",
       "    }\n",
       "</style>\n",
       "<table border=\"1\" class=\"dataframe\">\n",
       "  <thead>\n",
       "    <tr style=\"text-align: right;\">\n",
       "      <th></th>\n",
       "      <th>precip</th>\n",
       "    </tr>\n",
       "    <tr>\n",
       "      <th>datetime</th>\n",
       "      <th></th>\n",
       "    </tr>\n",
       "  </thead>\n",
       "  <tbody>\n",
       "    <tr>\n",
       "      <th>2010-12-29</th>\n",
       "      <td>9.7</td>\n",
       "    </tr>\n",
       "    <tr>\n",
       "      <th>2010-12-30</th>\n",
       "      <td>33.5</td>\n",
       "    </tr>\n",
       "    <tr>\n",
       "      <th>2012-12-25</th>\n",
       "      <td>8.4</td>\n",
       "    </tr>\n",
       "    <tr>\n",
       "      <th>2014-01-05</th>\n",
       "      <td>12.7</td>\n",
       "    </tr>\n",
       "    <tr>\n",
       "      <th>2014-11-16</th>\n",
       "      <td>8.0</td>\n",
       "    </tr>\n",
       "    <tr>\n",
       "      <th>2015-11-17</th>\n",
       "      <td>11.9</td>\n",
       "    </tr>\n",
       "    <tr>\n",
       "      <th>2018-06-09</th>\n",
       "      <td>8.6</td>\n",
       "    </tr>\n",
       "    <tr>\n",
       "      <th>2018-11-01</th>\n",
       "      <td>7.6</td>\n",
       "    </tr>\n",
       "    <tr>\n",
       "      <th>2018-11-23</th>\n",
       "      <td>11.1</td>\n",
       "    </tr>\n",
       "    <tr>\n",
       "      <th>2019-01-28</th>\n",
       "      <td>8.1</td>\n",
       "    </tr>\n",
       "    <tr>\n",
       "      <th>2020-09-05</th>\n",
       "      <td>9.0</td>\n",
       "    </tr>\n",
       "    <tr>\n",
       "      <th>2020-10-01</th>\n",
       "      <td>8.4</td>\n",
       "    </tr>\n",
       "    <tr>\n",
       "      <th>2021-01-01</th>\n",
       "      <td>8.6</td>\n",
       "    </tr>\n",
       "    <tr>\n",
       "      <th>2021-01-10</th>\n",
       "      <td>7.9</td>\n",
       "    </tr>\n",
       "    <tr>\n",
       "      <th>2021-02-05</th>\n",
       "      <td>11.2</td>\n",
       "    </tr>\n",
       "    <tr>\n",
       "      <th>2021-02-06</th>\n",
       "      <td>11.4</td>\n",
       "    </tr>\n",
       "    <tr>\n",
       "      <th>2021-04-18</th>\n",
       "      <td>9.3</td>\n",
       "    </tr>\n",
       "    <tr>\n",
       "      <th>2021-04-28</th>\n",
       "      <td>10.8</td>\n",
       "    </tr>\n",
       "    <tr>\n",
       "      <th>2022-01-14</th>\n",
       "      <td>7.5</td>\n",
       "    </tr>\n",
       "    <tr>\n",
       "      <th>2022-11-24</th>\n",
       "      <td>12.3</td>\n",
       "    </tr>\n",
       "  </tbody>\n",
       "</table>\n",
       "</div>"
      ],
      "text/plain": [
       "            precip\n",
       "datetime          \n",
       "2010-12-29     9.7\n",
       "2010-12-30    33.5\n",
       "2012-12-25     8.4\n",
       "2014-01-05    12.7\n",
       "2014-11-16     8.0\n",
       "2015-11-17    11.9\n",
       "2018-06-09     8.6\n",
       "2018-11-01     7.6\n",
       "2018-11-23    11.1\n",
       "2019-01-28     8.1\n",
       "2020-09-05     9.0\n",
       "2020-10-01     8.4\n",
       "2021-01-01     8.6\n",
       "2021-01-10     7.9\n",
       "2021-02-05    11.2\n",
       "2021-02-06    11.4\n",
       "2021-04-18     9.3\n",
       "2021-04-28    10.8\n",
       "2022-01-14     7.5\n",
       "2022-11-24    12.3"
      ]
     },
     "execution_count": 27,
     "metadata": {},
     "output_type": "execute_result"
    }
   ],
   "source": [
    "iqr_outliers(dailydf)"
   ]
  },
  {
   "cell_type": "markdown",
   "id": "d2c59652-51a7-42f4-8c1d-b522eb05208d",
   "metadata": {},
   "source": [
    "Year 2021 had the highest number of outlier days 6. the highest precipitation in a day was in 2010 where 33.5 mm fell one day."
   ]
  },
  {
   "cell_type": "code",
   "execution_count": 28,
   "id": "05b619b8-5b93-4615-80c9-4c10579b9c8c",
   "metadata": {},
   "outputs": [
    {
     "data": {
      "text/plain": [
       "<AxesSubplot:ylabel='Count'>"
      ]
     },
     "execution_count": 28,
     "metadata": {},
     "output_type": "execute_result"
    },
    {
     "data": {
      "image/png": "[encoded data removed]",
      "text/plain": [
       "<Figure size 640x480 with 1 Axes>"
      ]
     },
     "metadata": {},
     "output_type": "display_data"
    }
   ],
   "source": [
    "sns.histplot(weeklydf[weeklydf != 0])"
   ]
  },
  {
   "cell_type": "code",
   "execution_count": 29,
   "id": "9385fffc-68c2-49fe-8fc5-4d486a800b27",
   "metadata": {},
   "outputs": [
    {
     "data": {
      "text/plain": [
       "<AxesSubplot:>"
      ]
     },
     "execution_count": 29,
     "metadata": {},
     "output_type": "execute_result"
    },
    {
     "data": {
      "image/png": "[encoded data removed]",
      "text/plain": [
       "<Figure size 640x480 with 1 Axes>"
      ]
     },
     "metadata": {},
     "output_type": "display_data"
    }
   ],
   "source": [
    "sns.boxplot(weeklydf[weeklydf.precip != 0])"
   ]
  },
  {
   "cell_type": "code",
   "execution_count": 30,
   "id": "05b7c225-a649-4641-86f0-058defc8b16b",
   "metadata": {},
   "outputs": [
    {
     "data": {
      "text/plain": [
       "precip    45.1\n",
       "dtype: float64"
      ]
     },
     "execution_count": 30,
     "metadata": {},
     "output_type": "execute_result"
    }
   ],
   "source": [
    "weeklydf.max()"
   ]
  },
  {
   "cell_type": "code",
   "execution_count": 31,
   "id": "6381e9c3-078a-4f7a-a619-63e909b4b034",
   "metadata": {},
   "outputs": [
    {
     "data": {
      "text/plain": [
       "precip    2.868644\n",
       "dtype: float64"
      ]
     },
     "execution_count": 31,
     "metadata": {},
     "output_type": "execute_result"
    }
   ],
   "source": [
    "weekly_no_outliers = remove_iqr_outliers(weeklydf)\n",
    "weekly_no_outliers[weekly_no_outliers.precip != 0].mean()"
   ]
  },
  {
   "cell_type": "code",
   "execution_count": 32,
   "id": "9d5df600-67c9-42ee-a69f-848d3fa91886",
   "metadata": {},
   "outputs": [
    {
     "data": {
      "text/html": [
       "<div>\n",
       "<style scoped>\n",
       "    .dataframe tbody tr th:only-of-type {\n",
       "        vertical-align: middle;\n",
       "    }\n",
       "\n",
       "    .dataframe tbody tr th {\n",
       "        vertical-align: top;\n",
       "    }\n",
       "\n",
       "    .dataframe thead th {\n",
       "        text-align: right;\n",
       "    }\n",
       "</style>\n",
       "<table border=\"1\" class=\"dataframe\">\n",
       "  <thead>\n",
       "    <tr style=\"text-align: right;\">\n",
       "      <th></th>\n",
       "      <th>precip</th>\n",
       "    </tr>\n",
       "    <tr>\n",
       "      <th>datetime</th>\n",
       "      <th></th>\n",
       "    </tr>\n",
       "  </thead>\n",
       "  <tbody>\n",
       "    <tr>\n",
       "      <th>2011-01-02</th>\n",
       "      <td>45.1</td>\n",
       "    </tr>\n",
       "    <tr>\n",
       "      <th>2014-01-05</th>\n",
       "      <td>14.4</td>\n",
       "    </tr>\n",
       "    <tr>\n",
       "      <th>2018-11-04</th>\n",
       "      <td>15.2</td>\n",
       "    </tr>\n",
       "    <tr>\n",
       "      <th>2018-11-11</th>\n",
       "      <td>14.3</td>\n",
       "    </tr>\n",
       "    <tr>\n",
       "      <th>2020-09-06</th>\n",
       "      <td>15.5</td>\n",
       "    </tr>\n",
       "    <tr>\n",
       "      <th>2021-01-17</th>\n",
       "      <td>15.8</td>\n",
       "    </tr>\n",
       "    <tr>\n",
       "      <th>2021-02-07</th>\n",
       "      <td>22.6</td>\n",
       "    </tr>\n",
       "    <tr>\n",
       "      <th>2021-05-02</th>\n",
       "      <td>22.8</td>\n",
       "    </tr>\n",
       "    <tr>\n",
       "      <th>2022-01-16</th>\n",
       "      <td>19.2</td>\n",
       "    </tr>\n",
       "    <tr>\n",
       "      <th>2022-11-27</th>\n",
       "      <td>20.5</td>\n",
       "    </tr>\n",
       "    <tr>\n",
       "      <th>2023-01-08</th>\n",
       "      <td>15.6</td>\n",
       "    </tr>\n",
       "  </tbody>\n",
       "</table>\n",
       "</div>"
      ],
      "text/plain": [
       "            precip\n",
       "datetime          \n",
       "2011-01-02    45.1\n",
       "2014-01-05    14.4\n",
       "2018-11-04    15.2\n",
       "2018-11-11    14.3\n",
       "2020-09-06    15.5\n",
       "2021-01-17    15.8\n",
       "2021-02-07    22.6\n",
       "2021-05-02    22.8\n",
       "2022-01-16    19.2\n",
       "2022-11-27    20.5\n",
       "2023-01-08    15.6"
      ]
     },
     "execution_count": 32,
     "metadata": {},
     "output_type": "execute_result"
    }
   ],
   "source": [
    "iqr_outliers(weeklydf)"
   ]
  },
  {
   "cell_type": "markdown",
   "id": "850cb543-5755-4e10-8b8d-e3003becc736",
   "metadata": {},
   "source": [
    "The last week of 2010 saw more rain the than the average year."
   ]
  },
  {
   "cell_type": "code",
   "execution_count": 33,
   "id": "c13402b4-7175-4f80-a794-43470ef63b20",
   "metadata": {},
   "outputs": [
    {
     "data": {
      "text/plain": [
       "<AxesSubplot:ylabel='Count'>"
      ]
     },
     "execution_count": 33,
     "metadata": {},
     "output_type": "execute_result"
    },
    {
     "data": {
      "image/png": "[encoded data removed]",
      "text/plain": [
       "<Figure size 640x480 with 1 Axes>"
      ]
     },
     "metadata": {},
     "output_type": "display_data"
    }
   ],
   "source": [
    "sns.histplot(monthlydf[monthlydf != 0])"
   ]
  },
  {
   "cell_type": "code",
   "execution_count": 34,
   "id": "309c7dc8-bd0d-4bc7-b11b-142549c634f3",
   "metadata": {},
   "outputs": [
    {
     "data": {
      "text/plain": [
       "<AxesSubplot:>"
      ]
     },
     "execution_count": 34,
     "metadata": {},
     "output_type": "execute_result"
    },
    {
     "data": {
      "image/png": "[encoded data removed]",
      "text/plain": [
       "<Figure size 640x480 with 1 Axes>"
      ]
     },
     "metadata": {},
     "output_type": "display_data"
    }
   ],
   "source": [
    "sns.boxplot(monthlydf[monthlydf.precip != 0])"
   ]
  },
  {
   "cell_type": "code",
   "execution_count": 35,
   "id": "a44921a4-9d63-4108-a117-18ad972d9e8c",
   "metadata": {},
   "outputs": [
    {
     "data": {
      "text/plain": [
       "precip    45.1\n",
       "dtype: float64"
      ]
     },
     "execution_count": 35,
     "metadata": {},
     "output_type": "execute_result"
    }
   ],
   "source": [
    "monthlydf.max()"
   ]
  },
  {
   "cell_type": "code",
   "execution_count": 36,
   "id": "ad2a1482-430c-48cf-8043-bd994efc93e4",
   "metadata": {},
   "outputs": [
    {
     "data": {
      "text/plain": [
       "precip    4.922857\n",
       "dtype: float64"
      ]
     },
     "execution_count": 36,
     "metadata": {},
     "output_type": "execute_result"
    }
   ],
   "source": [
    "monthly_no_outliers = remove_iqr_outliers(monthlydf)\n",
    "monthly_no_outliers[monthly_no_outliers.precip != 0].mean()"
   ]
  },
  {
   "cell_type": "code",
   "execution_count": 37,
   "id": "444d1308-cd94-4de9-8efd-50e4ac74ccc9",
   "metadata": {},
   "outputs": [
    {
     "data": {
      "text/html": [
       "<div>\n",
       "<style scoped>\n",
       "    .dataframe tbody tr th:only-of-type {\n",
       "        vertical-align: middle;\n",
       "    }\n",
       "\n",
       "    .dataframe tbody tr th {\n",
       "        vertical-align: top;\n",
       "    }\n",
       "\n",
       "    .dataframe thead th {\n",
       "        text-align: right;\n",
       "    }\n",
       "</style>\n",
       "<table border=\"1\" class=\"dataframe\">\n",
       "  <thead>\n",
       "    <tr style=\"text-align: right;\">\n",
       "      <th></th>\n",
       "      <th>precip</th>\n",
       "    </tr>\n",
       "    <tr>\n",
       "      <th>datetime</th>\n",
       "      <th></th>\n",
       "    </tr>\n",
       "  </thead>\n",
       "  <tbody>\n",
       "    <tr>\n",
       "      <th>2010-12-31</th>\n",
       "      <td>45.1</td>\n",
       "    </tr>\n",
       "    <tr>\n",
       "      <th>2018-11-30</th>\n",
       "      <td>42.6</td>\n",
       "    </tr>\n",
       "    <tr>\n",
       "      <th>2021-01-31</th>\n",
       "      <td>38.9</td>\n",
       "    </tr>\n",
       "    <tr>\n",
       "      <th>2021-04-30</th>\n",
       "      <td>34.1</td>\n",
       "    </tr>\n",
       "    <tr>\n",
       "      <th>2022-01-31</th>\n",
       "      <td>28.1</td>\n",
       "    </tr>\n",
       "    <tr>\n",
       "      <th>2022-12-31</th>\n",
       "      <td>26.1</td>\n",
       "    </tr>\n",
       "  </tbody>\n",
       "</table>\n",
       "</div>"
      ],
      "text/plain": [
       "            precip\n",
       "datetime          \n",
       "2010-12-31    45.1\n",
       "2018-11-30    42.6\n",
       "2021-01-31    38.9\n",
       "2021-04-30    34.1\n",
       "2022-01-31    28.1\n",
       "2022-12-31    26.1"
      ]
     },
     "execution_count": 37,
     "metadata": {},
     "output_type": "execute_result"
    }
   ],
   "source": [
    "iqr_outliers(monthlydf)"
   ]
  },
  {
   "cell_type": "code",
   "execution_count": 38,
   "id": "cf5ac53e-bba2-4e32-9d76-e039638208fd",
   "metadata": {},
   "outputs": [
    {
     "data": {
      "text/plain": [
       "<AxesSubplot:ylabel='Count'>"
      ]
     },
     "execution_count": 38,
     "metadata": {},
     "output_type": "execute_result"
    },
    {
     "data": {
      "image/png": "[encoded data removed]",
      "text/plain": [
       "<Figure size 640x480 with 1 Axes>"
      ]
     },
     "metadata": {},
     "output_type": "display_data"
    }
   ],
   "source": [
    "sns.histplot(yearlydf)"
   ]
  },
  {
   "cell_type": "code",
   "execution_count": 39,
   "id": "cbfb748f-850a-4f71-84c3-aa690f1aaad9",
   "metadata": {},
   "outputs": [
    {
     "data": {
      "text/plain": [
       "<AxesSubplot:>"
      ]
     },
     "execution_count": 39,
     "metadata": {},
     "output_type": "execute_result"
    },
    {
     "data": {
      "image/png": "[encoded data removed]",
      "text/plain": [
       "<Figure size 640x480 with 1 Axes>"
      ]
     },
     "metadata": {},
     "output_type": "display_data"
    }
   ],
   "source": [
    "sns.boxplot(yearlydf)"
   ]
  },
  {
   "cell_type": "code",
   "execution_count": 40,
   "id": "86be402e-26a6-4370-85d1-303ea29ecff7",
   "metadata": {},
   "outputs": [
    {
     "data": {
      "text/plain": [
       "precip    114.2\n",
       "dtype: float64"
      ]
     },
     "execution_count": 40,
     "metadata": {},
     "output_type": "execute_result"
    }
   ],
   "source": [
    "yearlydf.max()"
   ]
  },
  {
   "cell_type": "code",
   "execution_count": 41,
   "id": "6e403cc3-b6eb-4857-8871-b713671be021",
   "metadata": {},
   "outputs": [
    {
     "data": {
      "text/plain": [
       "precip    39.964286\n",
       "dtype: float64"
      ]
     },
     "execution_count": 41,
     "metadata": {},
     "output_type": "execute_result"
    }
   ],
   "source": [
    "yearlydf.mean()"
   ]
  },
  {
   "cell_type": "markdown",
   "id": "cf2faed1-bf87-48b7-a187-8ed03a0e43e1",
   "metadata": {},
   "source": [
    "There are no outlier years."
   ]
  },
  {
   "cell_type": "markdown",
   "id": "2a910f70-1b07-408e-b151-60ff9b9b9973",
   "metadata": {},
   "source": [
    "## Further Analysis\n",
    "\n",
    "Here we look at December 2010, the month with the highest precipitation in the last 13 years."
   ]
  },
  {
   "cell_type": "code",
   "execution_count": 42,
   "id": "b762ed9e-f5fb-4f86-97ec-95835be15c0e",
   "metadata": {},
   "outputs": [
    {
     "data": {
      "text/plain": [
       "<AxesSubplot:xlabel='datetime', ylabel='precip'>"
      ]
     },
     "execution_count": 42,
     "metadata": {},
     "output_type": "execute_result"
    },
    {
     "data": {
      "image/png": "[encoded data removed]",
      "text/plain": [
       "<Figure size 1200x500 with 1 Axes>"
      ]
     },
     "metadata": {},
     "output_type": "display_data"
    }
   ],
   "source": [
    "plt.figure(figsize=(12,5))\n",
    "sns.lineplot(df[(df.month == 12) & (df.year == 2010)], x='datetime', y='precip')"
   ]
  },
  {
   "cell_type": "code",
   "execution_count": 43,
   "id": "b388d56a-3361-4042-bdfa-1e77ec61ea2c",
   "metadata": {},
   "outputs": [
    {
     "data": {
      "text/html": [
       "<div>\n",
       "<style scoped>\n",
       "    .dataframe tbody tr th:only-of-type {\n",
       "        vertical-align: middle;\n",
       "    }\n",
       "\n",
       "    .dataframe tbody tr th {\n",
       "        vertical-align: top;\n",
       "    }\n",
       "\n",
       "    .dataframe thead th {\n",
       "        text-align: right;\n",
       "    }\n",
       "</style>\n",
       "<table border=\"1\" class=\"dataframe\">\n",
       "  <thead>\n",
       "    <tr style=\"text-align: right;\">\n",
       "      <th></th>\n",
       "      <th>index</th>\n",
       "      <th>datetime</th>\n",
       "      <th>precip</th>\n",
       "      <th>month</th>\n",
       "      <th>year</th>\n",
       "      <th>weekday</th>\n",
       "      <th>season</th>\n",
       "    </tr>\n",
       "  </thead>\n",
       "  <tbody>\n",
       "    <tr>\n",
       "      <th>335</th>\n",
       "      <td>3988</td>\n",
       "      <td>2010-12-02</td>\n",
       "      <td>0.0</td>\n",
       "      <td>12</td>\n",
       "      <td>2010</td>\n",
       "      <td>Thursday</td>\n",
       "      <td>Winter</td>\n",
       "    </tr>\n",
       "    <tr>\n",
       "      <th>336</th>\n",
       "      <td>3989</td>\n",
       "      <td>2010-12-03</td>\n",
       "      <td>0.0</td>\n",
       "      <td>12</td>\n",
       "      <td>2010</td>\n",
       "      <td>Friday</td>\n",
       "      <td>Winter</td>\n",
       "    </tr>\n",
       "    <tr>\n",
       "      <th>337</th>\n",
       "      <td>3990</td>\n",
       "      <td>2010-12-04</td>\n",
       "      <td>0.0</td>\n",
       "      <td>12</td>\n",
       "      <td>2010</td>\n",
       "      <td>Saturday</td>\n",
       "      <td>Winter</td>\n",
       "    </tr>\n",
       "    <tr>\n",
       "      <th>338</th>\n",
       "      <td>3991</td>\n",
       "      <td>2010-12-05</td>\n",
       "      <td>0.0</td>\n",
       "      <td>12</td>\n",
       "      <td>2010</td>\n",
       "      <td>Sunday</td>\n",
       "      <td>Winter</td>\n",
       "    </tr>\n",
       "    <tr>\n",
       "      <th>339</th>\n",
       "      <td>3992</td>\n",
       "      <td>2010-12-06</td>\n",
       "      <td>0.0</td>\n",
       "      <td>12</td>\n",
       "      <td>2010</td>\n",
       "      <td>Monday</td>\n",
       "      <td>Winter</td>\n",
       "    </tr>\n",
       "    <tr>\n",
       "      <th>340</th>\n",
       "      <td>3993</td>\n",
       "      <td>2010-12-07</td>\n",
       "      <td>0.0</td>\n",
       "      <td>12</td>\n",
       "      <td>2010</td>\n",
       "      <td>Tuesday</td>\n",
       "      <td>Winter</td>\n",
       "    </tr>\n",
       "    <tr>\n",
       "      <th>341</th>\n",
       "      <td>3994</td>\n",
       "      <td>2010-12-08</td>\n",
       "      <td>0.0</td>\n",
       "      <td>12</td>\n",
       "      <td>2010</td>\n",
       "      <td>Wednesday</td>\n",
       "      <td>Winter</td>\n",
       "    </tr>\n",
       "    <tr>\n",
       "      <th>342</th>\n",
       "      <td>3995</td>\n",
       "      <td>2010-12-09</td>\n",
       "      <td>0.0</td>\n",
       "      <td>12</td>\n",
       "      <td>2010</td>\n",
       "      <td>Thursday</td>\n",
       "      <td>Winter</td>\n",
       "    </tr>\n",
       "    <tr>\n",
       "      <th>343</th>\n",
       "      <td>3996</td>\n",
       "      <td>2010-12-10</td>\n",
       "      <td>0.0</td>\n",
       "      <td>12</td>\n",
       "      <td>2010</td>\n",
       "      <td>Friday</td>\n",
       "      <td>Winter</td>\n",
       "    </tr>\n",
       "    <tr>\n",
       "      <th>344</th>\n",
       "      <td>3997</td>\n",
       "      <td>2010-12-11</td>\n",
       "      <td>0.0</td>\n",
       "      <td>12</td>\n",
       "      <td>2010</td>\n",
       "      <td>Saturday</td>\n",
       "      <td>Winter</td>\n",
       "    </tr>\n",
       "    <tr>\n",
       "      <th>345</th>\n",
       "      <td>3998</td>\n",
       "      <td>2010-12-12</td>\n",
       "      <td>0.0</td>\n",
       "      <td>12</td>\n",
       "      <td>2010</td>\n",
       "      <td>Sunday</td>\n",
       "      <td>Winter</td>\n",
       "    </tr>\n",
       "    <tr>\n",
       "      <th>346</th>\n",
       "      <td>3999</td>\n",
       "      <td>2010-12-13</td>\n",
       "      <td>0.0</td>\n",
       "      <td>12</td>\n",
       "      <td>2010</td>\n",
       "      <td>Monday</td>\n",
       "      <td>Winter</td>\n",
       "    </tr>\n",
       "    <tr>\n",
       "      <th>347</th>\n",
       "      <td>4000</td>\n",
       "      <td>2010-12-14</td>\n",
       "      <td>0.0</td>\n",
       "      <td>12</td>\n",
       "      <td>2010</td>\n",
       "      <td>Tuesday</td>\n",
       "      <td>Winter</td>\n",
       "    </tr>\n",
       "    <tr>\n",
       "      <th>348</th>\n",
       "      <td>4001</td>\n",
       "      <td>2010-12-15</td>\n",
       "      <td>0.0</td>\n",
       "      <td>12</td>\n",
       "      <td>2010</td>\n",
       "      <td>Wednesday</td>\n",
       "      <td>Winter</td>\n",
       "    </tr>\n",
       "    <tr>\n",
       "      <th>349</th>\n",
       "      <td>4002</td>\n",
       "      <td>2010-12-16</td>\n",
       "      <td>0.0</td>\n",
       "      <td>12</td>\n",
       "      <td>2010</td>\n",
       "      <td>Thursday</td>\n",
       "      <td>Winter</td>\n",
       "    </tr>\n",
       "    <tr>\n",
       "      <th>350</th>\n",
       "      <td>4003</td>\n",
       "      <td>2010-12-17</td>\n",
       "      <td>0.0</td>\n",
       "      <td>12</td>\n",
       "      <td>2010</td>\n",
       "      <td>Friday</td>\n",
       "      <td>Winter</td>\n",
       "    </tr>\n",
       "    <tr>\n",
       "      <th>351</th>\n",
       "      <td>4004</td>\n",
       "      <td>2010-12-18</td>\n",
       "      <td>0.0</td>\n",
       "      <td>12</td>\n",
       "      <td>2010</td>\n",
       "      <td>Saturday</td>\n",
       "      <td>Winter</td>\n",
       "    </tr>\n",
       "    <tr>\n",
       "      <th>352</th>\n",
       "      <td>4005</td>\n",
       "      <td>2010-12-19</td>\n",
       "      <td>0.0</td>\n",
       "      <td>12</td>\n",
       "      <td>2010</td>\n",
       "      <td>Sunday</td>\n",
       "      <td>Winter</td>\n",
       "    </tr>\n",
       "    <tr>\n",
       "      <th>353</th>\n",
       "      <td>4006</td>\n",
       "      <td>2010-12-20</td>\n",
       "      <td>0.0</td>\n",
       "      <td>12</td>\n",
       "      <td>2010</td>\n",
       "      <td>Monday</td>\n",
       "      <td>Winter</td>\n",
       "    </tr>\n",
       "    <tr>\n",
       "      <th>354</th>\n",
       "      <td>4007</td>\n",
       "      <td>2010-12-21</td>\n",
       "      <td>0.0</td>\n",
       "      <td>12</td>\n",
       "      <td>2010</td>\n",
       "      <td>Tuesday</td>\n",
       "      <td>Winter</td>\n",
       "    </tr>\n",
       "    <tr>\n",
       "      <th>355</th>\n",
       "      <td>4008</td>\n",
       "      <td>2010-12-22</td>\n",
       "      <td>0.0</td>\n",
       "      <td>12</td>\n",
       "      <td>2010</td>\n",
       "      <td>Wednesday</td>\n",
       "      <td>Winter</td>\n",
       "    </tr>\n",
       "    <tr>\n",
       "      <th>356</th>\n",
       "      <td>4009</td>\n",
       "      <td>2010-12-23</td>\n",
       "      <td>0.0</td>\n",
       "      <td>12</td>\n",
       "      <td>2010</td>\n",
       "      <td>Thursday</td>\n",
       "      <td>Winter</td>\n",
       "    </tr>\n",
       "    <tr>\n",
       "      <th>357</th>\n",
       "      <td>4010</td>\n",
       "      <td>2010-12-24</td>\n",
       "      <td>0.0</td>\n",
       "      <td>12</td>\n",
       "      <td>2010</td>\n",
       "      <td>Friday</td>\n",
       "      <td>Winter</td>\n",
       "    </tr>\n",
       "    <tr>\n",
       "      <th>358</th>\n",
       "      <td>4011</td>\n",
       "      <td>2010-12-25</td>\n",
       "      <td>0.0</td>\n",
       "      <td>12</td>\n",
       "      <td>2010</td>\n",
       "      <td>Saturday</td>\n",
       "      <td>Winter</td>\n",
       "    </tr>\n",
       "    <tr>\n",
       "      <th>359</th>\n",
       "      <td>4012</td>\n",
       "      <td>2010-12-26</td>\n",
       "      <td>0.0</td>\n",
       "      <td>12</td>\n",
       "      <td>2010</td>\n",
       "      <td>Sunday</td>\n",
       "      <td>Winter</td>\n",
       "    </tr>\n",
       "    <tr>\n",
       "      <th>360</th>\n",
       "      <td>4013</td>\n",
       "      <td>2010-12-27</td>\n",
       "      <td>0.0</td>\n",
       "      <td>12</td>\n",
       "      <td>2010</td>\n",
       "      <td>Monday</td>\n",
       "      <td>Winter</td>\n",
       "    </tr>\n",
       "    <tr>\n",
       "      <th>361</th>\n",
       "      <td>4014</td>\n",
       "      <td>2010-12-28</td>\n",
       "      <td>1.9</td>\n",
       "      <td>12</td>\n",
       "      <td>2010</td>\n",
       "      <td>Tuesday</td>\n",
       "      <td>Winter</td>\n",
       "    </tr>\n",
       "    <tr>\n",
       "      <th>362</th>\n",
       "      <td>4015</td>\n",
       "      <td>2010-12-29</td>\n",
       "      <td>9.7</td>\n",
       "      <td>12</td>\n",
       "      <td>2010</td>\n",
       "      <td>Wednesday</td>\n",
       "      <td>Winter</td>\n",
       "    </tr>\n",
       "    <tr>\n",
       "      <th>363</th>\n",
       "      <td>4016</td>\n",
       "      <td>2010-12-30</td>\n",
       "      <td>33.5</td>\n",
       "      <td>12</td>\n",
       "      <td>2010</td>\n",
       "      <td>Thursday</td>\n",
       "      <td>Winter</td>\n",
       "    </tr>\n",
       "    <tr>\n",
       "      <th>364</th>\n",
       "      <td>4017</td>\n",
       "      <td>2010-12-31</td>\n",
       "      <td>0.0</td>\n",
       "      <td>12</td>\n",
       "      <td>2010</td>\n",
       "      <td>Friday</td>\n",
       "      <td>Winter</td>\n",
       "    </tr>\n",
       "    <tr>\n",
       "      <th>365</th>\n",
       "      <td>4018</td>\n",
       "      <td>2011-01-01</td>\n",
       "      <td>0.0</td>\n",
       "      <td>1</td>\n",
       "      <td>2011</td>\n",
       "      <td>Saturday</td>\n",
       "      <td>Winter</td>\n",
       "    </tr>\n",
       "    <tr>\n",
       "      <th>366</th>\n",
       "      <td>4019</td>\n",
       "      <td>2011-01-02</td>\n",
       "      <td>0.0</td>\n",
       "      <td>1</td>\n",
       "      <td>2011</td>\n",
       "      <td>Sunday</td>\n",
       "      <td>Winter</td>\n",
       "    </tr>\n",
       "  </tbody>\n",
       "</table>\n",
       "</div>"
      ],
      "text/plain": [
       "     index   datetime  precip  month  year    weekday  season\n",
       "335   3988 2010-12-02     0.0     12  2010   Thursday  Winter\n",
       "336   3989 2010-12-03     0.0     12  2010     Friday  Winter\n",
       "337   3990 2010-12-04     0.0     12  2010   Saturday  Winter\n",
       "338   3991 2010-12-05     0.0     12  2010     Sunday  Winter\n",
       "339   3992 2010-12-06     0.0     12  2010     Monday  Winter\n",
       "340   3993 2010-12-07     0.0     12  2010    Tuesday  Winter\n",
       "341   3994 2010-12-08     0.0     12  2010  Wednesday  Winter\n",
       "342   3995 2010-12-09     0.0     12  2010   Thursday  Winter\n",
       "343   3996 2010-12-10     0.0     12  2010     Friday  Winter\n",
       "344   3997 2010-12-11     0.0     12  2010   Saturday  Winter\n",
       "345   3998 2010-12-12     0.0     12  2010     Sunday  Winter\n",
       "346   3999 2010-12-13     0.0     12  2010     Monday  Winter\n",
       "347   4000 2010-12-14     0.0     12  2010    Tuesday  Winter\n",
       "348   4001 2010-12-15     0.0     12  2010  Wednesday  Winter\n",
       "349   4002 2010-12-16     0.0     12  2010   Thursday  Winter\n",
       "350   4003 2010-12-17     0.0     12  2010     Friday  Winter\n",
       "351   4004 2010-12-18     0.0     12  2010   Saturday  Winter\n",
       "352   4005 2010-12-19     0.0     12  2010     Sunday  Winter\n",
       "353   4006 2010-12-20     0.0     12  2010     Monday  Winter\n",
       "354   4007 2010-12-21     0.0     12  2010    Tuesday  Winter\n",
       "355   4008 2010-12-22     0.0     12  2010  Wednesday  Winter\n",
       "356   4009 2010-12-23     0.0     12  2010   Thursday  Winter\n",
       "357   4010 2010-12-24     0.0     12  2010     Friday  Winter\n",
       "358   4011 2010-12-25     0.0     12  2010   Saturday  Winter\n",
       "359   4012 2010-12-26     0.0     12  2010     Sunday  Winter\n",
       "360   4013 2010-12-27     0.0     12  2010     Monday  Winter\n",
       "361   4014 2010-12-28     1.9     12  2010    Tuesday  Winter\n",
       "362   4015 2010-12-29     9.7     12  2010  Wednesday  Winter\n",
       "363   4016 2010-12-30    33.5     12  2010   Thursday  Winter\n",
       "364   4017 2010-12-31     0.0     12  2010     Friday  Winter\n",
       "365   4018 2011-01-01     0.0      1  2011   Saturday  Winter\n",
       "366   4019 2011-01-02     0.0      1  2011     Sunday  Winter"
      ]
     },
     "execution_count": 43,
     "metadata": {},
     "output_type": "execute_result"
    }
   ],
   "source": [
    "df[(df.datetime > '2010-12-1') & (df.datetime < '2011-01-03')]"
   ]
  },
  {
   "cell_type": "markdown",
   "id": "db978196-88f3-439f-b2f2-d137df0762af",
   "metadata": {},
   "source": [
    "The week from 2010-12-27 to 2011-01-2 received more precipitation than the average year, all the of which fell in the days December 28, 29 and 30."
   ]
  },
  {
   "cell_type": "code",
   "execution_count": null,
   "id": "74beb5bf-183f-45de-a4dd-f74bb646bc7d",
   "metadata": {},
   "outputs": [],
   "source": []
  }
 ],
 "metadata": {
  "kernelspec": {
   "display_name": "Python 3 (ipykernel)",
   "language": "python",
   "name": "python3"
  },
  "language_info": {
   "codemirror_mode": {
    "name": "ipython",
    "version": 3
   },
   "file_extension": ".py",
   "mimetype": "text/x-python",
   "name": "python",
   "nbconvert_exporter": "python",
   "pygments_lexer": "ipython3",
   "version": "3.9.12"
  }
 },
 "nbformat": 4,
 "nbformat_minor": 5
}
